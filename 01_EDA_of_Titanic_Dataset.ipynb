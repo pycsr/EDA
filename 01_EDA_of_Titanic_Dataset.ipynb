{
 "cells": [
  {
   "cell_type": "markdown",
   "id": "e92aa03c",
   "metadata": {},
   "source": [
    "# EDA (`E`xploratory `D`ata `A`nalysis) \n",
    "- The reasoning behind this approach was to examine the data before building a model\n",
    "- Today almost every Data scientists and analysts spend most of their time in `Data Wrangling` and `Exploratory Data Analysis also known as EDA`"
   ]
  },
  {
   "cell_type": "markdown",
   "id": "1cb6116a",
   "metadata": {},
   "source": [
    "# What is Exploratory Data Analysis?\n",
    "\n",
    "Exploratory Data Analysis or EDA technique is used for getting insights from the data. Data Scientists and Analysts try to find `different patterns`, `relations`, and `anomalies in the data` using some statistical graphs and other visualization techniques. Following things are part of EDA :\n",
    "\n",
    "- Get maximum insights from a data set\n",
    "- Uncover underlying structure\n",
    "- Extract important variables from the dataset\n",
    "- Detect outliers and anomalies(if any)\n",
    "- Test underlying assumptions\n",
    "- Determine the optimal factor settings\n"
   ]
  },
  {
   "cell_type": "markdown",
   "id": "adc10aff",
   "metadata": {},
   "source": [
    "# Why EDA is important?\n",
    "- The main purpose of EDA is to \n",
    "- Detect any errors, \n",
    "- Outliers as well as \n",
    "- To understand different patterns in the data. \n",
    "- It allows Analysts to understand the data better before making any assumptions. \n",
    "- The outcomes of EDA helps businesses to know their customers, expand their business and take decisions accordingly."
   ]
  },
  {
   "cell_type": "markdown",
   "id": "b636ec80",
   "metadata": {},
   "source": [
    "# How to perform EDA?\n",
    "\n",
    "- Following steps are most commonly used to perform EDA:\n",
    "    "
   ]
  },
  {
   "cell_type": "markdown",
   "id": "5163d680",
   "metadata": {},
   "source": [
    "## Import libraries and load dataset"
   ]
  },
  {
   "cell_type": "code",
   "execution_count": 241,
   "id": "2bff1791",
   "metadata": {
    "ExecuteTime": {
     "end_time": "2022-02-15T13:19:32.277471Z",
     "start_time": "2022-02-15T13:19:32.062918Z"
    }
   },
   "outputs": [],
   "source": [
    "import numpy as np\n",
    "import pandas as pd\n",
    "import matplotlib.pyplot as plt\n",
    "import seaborn as sns"
   ]
  },
  {
   "cell_type": "markdown",
   "id": "7d6bb9f9",
   "metadata": {},
   "source": [
    "## Read Data set and see top and bottom rows to have quick glimpse of data"
   ]
  },
  {
   "cell_type": "code",
   "execution_count": 282,
   "id": "2bb0aae7",
   "metadata": {
    "ExecuteTime": {
     "end_time": "2022-02-15T13:41:07.222968Z",
     "start_time": "2022-02-15T13:41:07.089628Z"
    }
   },
   "outputs": [],
   "source": [
    "df = pd.read_csv(\"01_titanic_dataset.csv\")"
   ]
  },
  {
   "cell_type": "code",
   "execution_count": 243,
   "id": "30be0a89",
   "metadata": {
    "ExecuteTime": {
     "end_time": "2022-02-15T13:20:26.045169Z",
     "start_time": "2022-02-15T13:20:25.941508Z"
    }
   },
   "outputs": [
    {
     "data": {
      "text/html": [
       "<div>\n",
       "<style scoped>\n",
       "    .dataframe tbody tr th:only-of-type {\n",
       "        vertical-align: middle;\n",
       "    }\n",
       "\n",
       "    .dataframe tbody tr th {\n",
       "        vertical-align: top;\n",
       "    }\n",
       "\n",
       "    .dataframe thead th {\n",
       "        text-align: right;\n",
       "    }\n",
       "</style>\n",
       "<table border=\"1\" class=\"dataframe\">\n",
       "  <thead>\n",
       "    <tr style=\"text-align: right;\">\n",
       "      <th></th>\n",
       "      <th>pclass</th>\n",
       "      <th>survived</th>\n",
       "      <th>name</th>\n",
       "      <th>gender</th>\n",
       "      <th>age</th>\n",
       "      <th>sibsp</th>\n",
       "      <th>parch</th>\n",
       "      <th>ticket</th>\n",
       "      <th>fare</th>\n",
       "      <th>cabin</th>\n",
       "      <th>embarked</th>\n",
       "      <th>boat</th>\n",
       "      <th>body</th>\n",
       "      <th>home.dest</th>\n",
       "    </tr>\n",
       "  </thead>\n",
       "  <tbody>\n",
       "    <tr>\n",
       "      <th>0</th>\n",
       "      <td>1.0</td>\n",
       "      <td>1</td>\n",
       "      <td>Allen, Miss. Elisabeth Walton</td>\n",
       "      <td>female</td>\n",
       "      <td>29.0000</td>\n",
       "      <td>0</td>\n",
       "      <td>0</td>\n",
       "      <td>24160</td>\n",
       "      <td>211.3375</td>\n",
       "      <td>B5</td>\n",
       "      <td>S</td>\n",
       "      <td>2</td>\n",
       "      <td>NaN</td>\n",
       "      <td>St Louis, MO</td>\n",
       "    </tr>\n",
       "    <tr>\n",
       "      <th>1</th>\n",
       "      <td>1.0</td>\n",
       "      <td>1</td>\n",
       "      <td>Allison, Master. Hudson Trevor</td>\n",
       "      <td>male</td>\n",
       "      <td>0.9167</td>\n",
       "      <td>1</td>\n",
       "      <td>2</td>\n",
       "      <td>113781</td>\n",
       "      <td>151.5500</td>\n",
       "      <td>C22 C26</td>\n",
       "      <td>S</td>\n",
       "      <td>11</td>\n",
       "      <td>NaN</td>\n",
       "      <td>Montreal, PQ / Chesterville, ON</td>\n",
       "    </tr>\n",
       "    <tr>\n",
       "      <th>2</th>\n",
       "      <td>1.0</td>\n",
       "      <td>0</td>\n",
       "      <td>Allison, Miss. Helen Loraine</td>\n",
       "      <td>female</td>\n",
       "      <td>2.0000</td>\n",
       "      <td>1</td>\n",
       "      <td>2</td>\n",
       "      <td>113781</td>\n",
       "      <td>151.5500</td>\n",
       "      <td>C22 C26</td>\n",
       "      <td>S</td>\n",
       "      <td>NaN</td>\n",
       "      <td>NaN</td>\n",
       "      <td>Montreal, PQ / Chesterville, ON</td>\n",
       "    </tr>\n",
       "    <tr>\n",
       "      <th>3</th>\n",
       "      <td>1.0</td>\n",
       "      <td>0</td>\n",
       "      <td>Allison, Mr. Hudson Joshua Creighton</td>\n",
       "      <td>male</td>\n",
       "      <td>30.0000</td>\n",
       "      <td>1</td>\n",
       "      <td>2</td>\n",
       "      <td>113781</td>\n",
       "      <td>151.5500</td>\n",
       "      <td>C22 C26</td>\n",
       "      <td>S</td>\n",
       "      <td>NaN</td>\n",
       "      <td>135.0</td>\n",
       "      <td>Montreal, PQ / Chesterville, ON</td>\n",
       "    </tr>\n",
       "  </tbody>\n",
       "</table>\n",
       "</div>"
      ],
      "text/plain": [
       "   pclass  survived                                  name  gender      age  \\\n",
       "0     1.0         1         Allen, Miss. Elisabeth Walton  female  29.0000   \n",
       "1     1.0         1        Allison, Master. Hudson Trevor    male   0.9167   \n",
       "2     1.0         0          Allison, Miss. Helen Loraine  female   2.0000   \n",
       "3     1.0         0  Allison, Mr. Hudson Joshua Creighton    male  30.0000   \n",
       "\n",
       "   sibsp  parch  ticket      fare    cabin embarked boat   body  \\\n",
       "0      0      0   24160  211.3375       B5        S    2    NaN   \n",
       "1      1      2  113781  151.5500  C22 C26        S   11    NaN   \n",
       "2      1      2  113781  151.5500  C22 C26        S  NaN    NaN   \n",
       "3      1      2  113781  151.5500  C22 C26        S  NaN  135.0   \n",
       "\n",
       "                         home.dest  \n",
       "0                     St Louis, MO  \n",
       "1  Montreal, PQ / Chesterville, ON  \n",
       "2  Montreal, PQ / Chesterville, ON  \n",
       "3  Montreal, PQ / Chesterville, ON  "
      ]
     },
     "execution_count": 243,
     "metadata": {},
     "output_type": "execute_result"
    }
   ],
   "source": [
    "df.head(4)"
   ]
  },
  {
   "cell_type": "code",
   "execution_count": 244,
   "id": "3017e669",
   "metadata": {
    "ExecuteTime": {
     "end_time": "2022-02-15T13:20:52.463756Z",
     "start_time": "2022-02-15T13:20:52.402199Z"
    }
   },
   "outputs": [
    {
     "data": {
      "text/html": [
       "<div>\n",
       "<style scoped>\n",
       "    .dataframe tbody tr th:only-of-type {\n",
       "        vertical-align: middle;\n",
       "    }\n",
       "\n",
       "    .dataframe tbody tr th {\n",
       "        vertical-align: top;\n",
       "    }\n",
       "\n",
       "    .dataframe thead th {\n",
       "        text-align: right;\n",
       "    }\n",
       "</style>\n",
       "<table border=\"1\" class=\"dataframe\">\n",
       "  <thead>\n",
       "    <tr style=\"text-align: right;\">\n",
       "      <th></th>\n",
       "      <th>pclass</th>\n",
       "      <th>survived</th>\n",
       "      <th>name</th>\n",
       "      <th>gender</th>\n",
       "      <th>age</th>\n",
       "      <th>sibsp</th>\n",
       "      <th>parch</th>\n",
       "      <th>ticket</th>\n",
       "      <th>fare</th>\n",
       "      <th>cabin</th>\n",
       "      <th>embarked</th>\n",
       "      <th>boat</th>\n",
       "      <th>body</th>\n",
       "      <th>home.dest</th>\n",
       "    </tr>\n",
       "  </thead>\n",
       "  <tbody>\n",
       "    <tr>\n",
       "      <th>1305</th>\n",
       "      <td>3.0</td>\n",
       "      <td>0</td>\n",
       "      <td>Zabour, Miss. Thamine</td>\n",
       "      <td>female</td>\n",
       "      <td>NaN</td>\n",
       "      <td>1</td>\n",
       "      <td>0</td>\n",
       "      <td>2665</td>\n",
       "      <td>14.4542</td>\n",
       "      <td>NaN</td>\n",
       "      <td>C</td>\n",
       "      <td>NaN</td>\n",
       "      <td>NaN</td>\n",
       "      <td>NaN</td>\n",
       "    </tr>\n",
       "    <tr>\n",
       "      <th>1306</th>\n",
       "      <td>3.0</td>\n",
       "      <td>0</td>\n",
       "      <td>Zakarian, Mr. Mapriededer</td>\n",
       "      <td>male</td>\n",
       "      <td>26.5</td>\n",
       "      <td>0</td>\n",
       "      <td>0</td>\n",
       "      <td>2656</td>\n",
       "      <td>7.2250</td>\n",
       "      <td>NaN</td>\n",
       "      <td>C</td>\n",
       "      <td>NaN</td>\n",
       "      <td>304.0</td>\n",
       "      <td>NaN</td>\n",
       "    </tr>\n",
       "    <tr>\n",
       "      <th>1307</th>\n",
       "      <td>3.0</td>\n",
       "      <td>0</td>\n",
       "      <td>Zakarian, Mr. Ortin</td>\n",
       "      <td>male</td>\n",
       "      <td>27.0</td>\n",
       "      <td>0</td>\n",
       "      <td>0</td>\n",
       "      <td>2670</td>\n",
       "      <td>7.2250</td>\n",
       "      <td>NaN</td>\n",
       "      <td>C</td>\n",
       "      <td>NaN</td>\n",
       "      <td>NaN</td>\n",
       "      <td>NaN</td>\n",
       "    </tr>\n",
       "    <tr>\n",
       "      <th>1308</th>\n",
       "      <td>3.0</td>\n",
       "      <td>0</td>\n",
       "      <td>Zimmerman, Mr. Leo</td>\n",
       "      <td>male</td>\n",
       "      <td>29.0</td>\n",
       "      <td>0</td>\n",
       "      <td>0</td>\n",
       "      <td>315082</td>\n",
       "      <td>7.8750</td>\n",
       "      <td>NaN</td>\n",
       "      <td>S</td>\n",
       "      <td>NaN</td>\n",
       "      <td>NaN</td>\n",
       "      <td>NaN</td>\n",
       "    </tr>\n",
       "  </tbody>\n",
       "</table>\n",
       "</div>"
      ],
      "text/plain": [
       "      pclass  survived                       name  gender   age  sibsp  parch  \\\n",
       "1305     3.0         0      Zabour, Miss. Thamine  female   NaN      1      0   \n",
       "1306     3.0         0  Zakarian, Mr. Mapriededer    male  26.5      0      0   \n",
       "1307     3.0         0        Zakarian, Mr. Ortin    male  27.0      0      0   \n",
       "1308     3.0         0         Zimmerman, Mr. Leo    male  29.0      0      0   \n",
       "\n",
       "      ticket     fare cabin embarked boat   body home.dest  \n",
       "1305    2665  14.4542   NaN        C  NaN    NaN       NaN  \n",
       "1306    2656   7.2250   NaN        C  NaN  304.0       NaN  \n",
       "1307    2670   7.2250   NaN        C  NaN    NaN       NaN  \n",
       "1308  315082   7.8750   NaN        S  NaN    NaN       NaN  "
      ]
     },
     "execution_count": 244,
     "metadata": {},
     "output_type": "execute_result"
    }
   ],
   "source": [
    "df.tail(4)"
   ]
  },
  {
   "cell_type": "markdown",
   "id": "d2c9dfa8",
   "metadata": {},
   "source": [
    "## Get shape of data to understand number of observations"
   ]
  },
  {
   "cell_type": "code",
   "execution_count": 245,
   "id": "9249c0db",
   "metadata": {
    "ExecuteTime": {
     "end_time": "2022-02-15T13:21:02.633927Z",
     "start_time": "2022-02-15T13:21:02.615335Z"
    }
   },
   "outputs": [
    {
     "data": {
      "text/plain": [
       "(1309, 14)"
      ]
     },
     "execution_count": 245,
     "metadata": {},
     "output_type": "execute_result"
    }
   ],
   "source": [
    "df.shape"
   ]
  },
  {
   "cell_type": "markdown",
   "id": "e78dc434",
   "metadata": {},
   "source": [
    "## Get Feature names of dataset"
   ]
  },
  {
   "cell_type": "code",
   "execution_count": 246,
   "id": "a2429f57",
   "metadata": {
    "ExecuteTime": {
     "end_time": "2022-02-15T13:21:25.245853Z",
     "start_time": "2022-02-15T13:21:25.215236Z"
    }
   },
   "outputs": [
    {
     "data": {
      "text/plain": [
       "Index(['pclass', 'survived', 'name', 'gender', 'age', 'sibsp', 'parch',\n",
       "       'ticket', 'fare', 'cabin', 'embarked', 'boat', 'body', 'home.dest'],\n",
       "      dtype='object')"
      ]
     },
     "execution_count": 246,
     "metadata": {},
     "output_type": "execute_result"
    }
   ],
   "source": [
    "df.keys()"
   ]
  },
  {
   "cell_type": "code",
   "execution_count": 247,
   "id": "fa0415ae",
   "metadata": {
    "ExecuteTime": {
     "end_time": "2022-02-15T13:21:34.097857Z",
     "start_time": "2022-02-15T13:21:34.067196Z"
    }
   },
   "outputs": [
    {
     "data": {
      "text/plain": [
       "Index(['pclass', 'survived', 'name', 'gender', 'age', 'sibsp', 'parch',\n",
       "       'ticket', 'fare', 'cabin', 'embarked', 'boat', 'body', 'home.dest'],\n",
       "      dtype='object')"
      ]
     },
     "execution_count": 247,
     "metadata": {},
     "output_type": "execute_result"
    }
   ],
   "source": [
    "df.columns"
   ]
  },
  {
   "cell_type": "markdown",
   "id": "60c8eec5",
   "metadata": {},
   "source": [
    "## Get the index of dataset"
   ]
  },
  {
   "cell_type": "code",
   "execution_count": 248,
   "id": "37cb927f",
   "metadata": {
    "ExecuteTime": {
     "end_time": "2022-02-15T13:21:53.364597Z",
     "start_time": "2022-02-15T13:21:53.297892Z"
    }
   },
   "outputs": [
    {
     "data": {
      "text/plain": [
       "RangeIndex(start=0, stop=1309, step=1)"
      ]
     },
     "execution_count": 248,
     "metadata": {},
     "output_type": "execute_result"
    }
   ],
   "source": [
    "df.index"
   ]
  },
  {
   "cell_type": "markdown",
   "id": "44486d6b",
   "metadata": {},
   "source": [
    "## Get full Decription/summary of dataset"
   ]
  },
  {
   "cell_type": "code",
   "execution_count": 249,
   "id": "17c3d7a1",
   "metadata": {
    "ExecuteTime": {
     "end_time": "2022-02-15T13:22:19.900796Z",
     "start_time": "2022-02-15T13:22:19.360205Z"
    }
   },
   "outputs": [
    {
     "data": {
      "text/html": [
       "<div>\n",
       "<style scoped>\n",
       "    .dataframe tbody tr th:only-of-type {\n",
       "        vertical-align: middle;\n",
       "    }\n",
       "\n",
       "    .dataframe tbody tr th {\n",
       "        vertical-align: top;\n",
       "    }\n",
       "\n",
       "    .dataframe thead th {\n",
       "        text-align: right;\n",
       "    }\n",
       "</style>\n",
       "<table border=\"1\" class=\"dataframe\">\n",
       "  <thead>\n",
       "    <tr style=\"text-align: right;\">\n",
       "      <th></th>\n",
       "      <th>pclass</th>\n",
       "      <th>survived</th>\n",
       "      <th>age</th>\n",
       "      <th>sibsp</th>\n",
       "      <th>parch</th>\n",
       "      <th>fare</th>\n",
       "      <th>body</th>\n",
       "    </tr>\n",
       "  </thead>\n",
       "  <tbody>\n",
       "    <tr>\n",
       "      <th>count</th>\n",
       "      <td>1305.000000</td>\n",
       "      <td>1309.000000</td>\n",
       "      <td>1046.000000</td>\n",
       "      <td>1309.000000</td>\n",
       "      <td>1309.000000</td>\n",
       "      <td>1307.000000</td>\n",
       "      <td>121.000000</td>\n",
       "    </tr>\n",
       "    <tr>\n",
       "      <th>mean</th>\n",
       "      <td>2.298851</td>\n",
       "      <td>0.381971</td>\n",
       "      <td>29.881135</td>\n",
       "      <td>0.498854</td>\n",
       "      <td>0.385027</td>\n",
       "      <td>33.297618</td>\n",
       "      <td>160.809917</td>\n",
       "    </tr>\n",
       "    <tr>\n",
       "      <th>std</th>\n",
       "      <td>0.836040</td>\n",
       "      <td>0.486055</td>\n",
       "      <td>14.413500</td>\n",
       "      <td>1.041658</td>\n",
       "      <td>0.865560</td>\n",
       "      <td>51.778422</td>\n",
       "      <td>97.696922</td>\n",
       "    </tr>\n",
       "    <tr>\n",
       "      <th>min</th>\n",
       "      <td>1.000000</td>\n",
       "      <td>0.000000</td>\n",
       "      <td>0.166700</td>\n",
       "      <td>0.000000</td>\n",
       "      <td>0.000000</td>\n",
       "      <td>0.000000</td>\n",
       "      <td>1.000000</td>\n",
       "    </tr>\n",
       "    <tr>\n",
       "      <th>25%</th>\n",
       "      <td>2.000000</td>\n",
       "      <td>0.000000</td>\n",
       "      <td>21.000000</td>\n",
       "      <td>0.000000</td>\n",
       "      <td>0.000000</td>\n",
       "      <td>7.895800</td>\n",
       "      <td>72.000000</td>\n",
       "    </tr>\n",
       "    <tr>\n",
       "      <th>50%</th>\n",
       "      <td>3.000000</td>\n",
       "      <td>0.000000</td>\n",
       "      <td>28.000000</td>\n",
       "      <td>0.000000</td>\n",
       "      <td>0.000000</td>\n",
       "      <td>14.454200</td>\n",
       "      <td>155.000000</td>\n",
       "    </tr>\n",
       "    <tr>\n",
       "      <th>75%</th>\n",
       "      <td>3.000000</td>\n",
       "      <td>1.000000</td>\n",
       "      <td>39.000000</td>\n",
       "      <td>1.000000</td>\n",
       "      <td>0.000000</td>\n",
       "      <td>31.275000</td>\n",
       "      <td>256.000000</td>\n",
       "    </tr>\n",
       "    <tr>\n",
       "      <th>max</th>\n",
       "      <td>3.000000</td>\n",
       "      <td>1.000000</td>\n",
       "      <td>80.000000</td>\n",
       "      <td>8.000000</td>\n",
       "      <td>9.000000</td>\n",
       "      <td>512.329200</td>\n",
       "      <td>328.000000</td>\n",
       "    </tr>\n",
       "  </tbody>\n",
       "</table>\n",
       "</div>"
      ],
      "text/plain": [
       "            pclass     survived          age        sibsp        parch  \\\n",
       "count  1305.000000  1309.000000  1046.000000  1309.000000  1309.000000   \n",
       "mean      2.298851     0.381971    29.881135     0.498854     0.385027   \n",
       "std       0.836040     0.486055    14.413500     1.041658     0.865560   \n",
       "min       1.000000     0.000000     0.166700     0.000000     0.000000   \n",
       "25%       2.000000     0.000000    21.000000     0.000000     0.000000   \n",
       "50%       3.000000     0.000000    28.000000     0.000000     0.000000   \n",
       "75%       3.000000     1.000000    39.000000     1.000000     0.000000   \n",
       "max       3.000000     1.000000    80.000000     8.000000     9.000000   \n",
       "\n",
       "              fare        body  \n",
       "count  1307.000000  121.000000  \n",
       "mean     33.297618  160.809917  \n",
       "std      51.778422   97.696922  \n",
       "min       0.000000    1.000000  \n",
       "25%       7.895800   72.000000  \n",
       "50%      14.454200  155.000000  \n",
       "75%      31.275000  256.000000  \n",
       "max     512.329200  328.000000  "
      ]
     },
     "execution_count": 249,
     "metadata": {},
     "output_type": "execute_result"
    }
   ],
   "source": [
    "df.describe()"
   ]
  },
  {
   "cell_type": "markdown",
   "id": "270a988e",
   "metadata": {},
   "source": [
    "## Get full info about all variables/features of dataset"
   ]
  },
  {
   "cell_type": "code",
   "execution_count": 250,
   "id": "cb678d37",
   "metadata": {
    "ExecuteTime": {
     "end_time": "2022-02-15T13:23:38.237505Z",
     "start_time": "2022-02-15T13:23:38.110259Z"
    }
   },
   "outputs": [
    {
     "name": "stdout",
     "output_type": "stream",
     "text": [
      "<class 'pandas.core.frame.DataFrame'>\n",
      "RangeIndex: 1309 entries, 0 to 1308\n",
      "Data columns (total 14 columns):\n",
      " #   Column     Non-Null Count  Dtype  \n",
      "---  ------     --------------  -----  \n",
      " 0   pclass     1305 non-null   float64\n",
      " 1   survived   1309 non-null   int64  \n",
      " 2   name       1309 non-null   object \n",
      " 3   gender     1309 non-null   object \n",
      " 4   age        1046 non-null   float64\n",
      " 5   sibsp      1309 non-null   int64  \n",
      " 6   parch      1309 non-null   int64  \n",
      " 7   ticket     1309 non-null   object \n",
      " 8   fare       1307 non-null   float64\n",
      " 9   cabin      295 non-null    object \n",
      " 10  embarked   1307 non-null   object \n",
      " 11  boat       486 non-null    object \n",
      " 12  body       121 non-null    float64\n",
      " 13  home.dest  745 non-null    object \n",
      "dtypes: float64(4), int64(3), object(7)\n",
      "memory usage: 143.3+ KB\n"
     ]
    }
   ],
   "source": [
    "df.info()"
   ]
  },
  {
   "cell_type": "markdown",
   "id": "2b6544ab",
   "metadata": {},
   "source": [
    "## Understand the data types of Dataset and downgrade its type to save memory"
   ]
  },
  {
   "cell_type": "code",
   "execution_count": 255,
   "id": "30d6d547",
   "metadata": {
    "ExecuteTime": {
     "end_time": "2022-02-15T13:25:46.877923Z",
     "start_time": "2022-02-15T13:25:46.864344Z"
    }
   },
   "outputs": [
    {
     "data": {
      "text/plain": [
       "array([ 1., nan,  2.,  3.])"
      ]
     },
     "execution_count": 255,
     "metadata": {},
     "output_type": "execute_result"
    }
   ],
   "source": [
    "df.pclass.unique()"
   ]
  },
  {
   "cell_type": "code",
   "execution_count": 256,
   "id": "ccf95f2f",
   "metadata": {
    "ExecuteTime": {
     "end_time": "2022-02-15T13:26:13.193118Z",
     "start_time": "2022-02-15T13:26:13.141780Z"
    }
   },
   "outputs": [
    {
     "data": {
      "text/plain": [
       "dtype('float64')"
      ]
     },
     "execution_count": 256,
     "metadata": {},
     "output_type": "execute_result"
    }
   ],
   "source": [
    "df.pclass.dtype"
   ]
  },
  {
   "cell_type": "code",
   "execution_count": 257,
   "id": "c461b81b",
   "metadata": {
    "ExecuteTime": {
     "end_time": "2022-02-15T13:26:45.077050Z",
     "start_time": "2022-02-15T13:26:44.994813Z"
    }
   },
   "outputs": [
    {
     "data": {
      "text/plain": [
       "array([1, 0])"
      ]
     },
     "execution_count": 257,
     "metadata": {},
     "output_type": "execute_result"
    }
   ],
   "source": [
    "df.survived.unique()"
   ]
  },
  {
   "cell_type": "code",
   "execution_count": 258,
   "id": "cfd5b860",
   "metadata": {
    "ExecuteTime": {
     "end_time": "2022-02-15T13:27:02.443801Z",
     "start_time": "2022-02-15T13:27:02.377173Z"
    }
   },
   "outputs": [
    {
     "data": {
      "text/plain": [
       "dtype('int64')"
      ]
     },
     "execution_count": 258,
     "metadata": {},
     "output_type": "execute_result"
    }
   ],
   "source": [
    "df.survived.dtype"
   ]
  },
  {
   "cell_type": "code",
   "execution_count": 260,
   "id": "36163242",
   "metadata": {
    "ExecuteTime": {
     "end_time": "2022-02-15T13:28:00.973756Z",
     "start_time": "2022-02-15T13:28:00.941327Z"
    }
   },
   "outputs": [],
   "source": [
    "# df.pclass = df.pclass.astype(\"int8\")"
   ]
  },
  {
   "cell_type": "markdown",
   "id": "a5d80eaa",
   "metadata": {},
   "source": [
    "## See if any missing values are present in data set"
   ]
  },
  {
   "cell_type": "code",
   "execution_count": 261,
   "id": "cd64adfd",
   "metadata": {
    "ExecuteTime": {
     "end_time": "2022-02-15T13:28:32.652246Z",
     "start_time": "2022-02-15T13:28:32.529253Z"
    }
   },
   "outputs": [
    {
     "data": {
      "text/html": [
       "<div>\n",
       "<style scoped>\n",
       "    .dataframe tbody tr th:only-of-type {\n",
       "        vertical-align: middle;\n",
       "    }\n",
       "\n",
       "    .dataframe tbody tr th {\n",
       "        vertical-align: top;\n",
       "    }\n",
       "\n",
       "    .dataframe thead th {\n",
       "        text-align: right;\n",
       "    }\n",
       "</style>\n",
       "<table border=\"1\" class=\"dataframe\">\n",
       "  <thead>\n",
       "    <tr style=\"text-align: right;\">\n",
       "      <th></th>\n",
       "      <th>pclass</th>\n",
       "      <th>survived</th>\n",
       "      <th>name</th>\n",
       "      <th>gender</th>\n",
       "      <th>age</th>\n",
       "      <th>sibsp</th>\n",
       "      <th>parch</th>\n",
       "      <th>ticket</th>\n",
       "      <th>fare</th>\n",
       "      <th>cabin</th>\n",
       "      <th>embarked</th>\n",
       "      <th>boat</th>\n",
       "      <th>body</th>\n",
       "      <th>home.dest</th>\n",
       "    </tr>\n",
       "  </thead>\n",
       "  <tbody>\n",
       "    <tr>\n",
       "      <th>0</th>\n",
       "      <td>False</td>\n",
       "      <td>False</td>\n",
       "      <td>False</td>\n",
       "      <td>False</td>\n",
       "      <td>False</td>\n",
       "      <td>False</td>\n",
       "      <td>False</td>\n",
       "      <td>False</td>\n",
       "      <td>False</td>\n",
       "      <td>False</td>\n",
       "      <td>False</td>\n",
       "      <td>False</td>\n",
       "      <td>True</td>\n",
       "      <td>False</td>\n",
       "    </tr>\n",
       "    <tr>\n",
       "      <th>1</th>\n",
       "      <td>False</td>\n",
       "      <td>False</td>\n",
       "      <td>False</td>\n",
       "      <td>False</td>\n",
       "      <td>False</td>\n",
       "      <td>False</td>\n",
       "      <td>False</td>\n",
       "      <td>False</td>\n",
       "      <td>False</td>\n",
       "      <td>False</td>\n",
       "      <td>False</td>\n",
       "      <td>False</td>\n",
       "      <td>True</td>\n",
       "      <td>False</td>\n",
       "    </tr>\n",
       "    <tr>\n",
       "      <th>2</th>\n",
       "      <td>False</td>\n",
       "      <td>False</td>\n",
       "      <td>False</td>\n",
       "      <td>False</td>\n",
       "      <td>False</td>\n",
       "      <td>False</td>\n",
       "      <td>False</td>\n",
       "      <td>False</td>\n",
       "      <td>False</td>\n",
       "      <td>False</td>\n",
       "      <td>False</td>\n",
       "      <td>True</td>\n",
       "      <td>True</td>\n",
       "      <td>False</td>\n",
       "    </tr>\n",
       "    <tr>\n",
       "      <th>3</th>\n",
       "      <td>False</td>\n",
       "      <td>False</td>\n",
       "      <td>False</td>\n",
       "      <td>False</td>\n",
       "      <td>False</td>\n",
       "      <td>False</td>\n",
       "      <td>False</td>\n",
       "      <td>False</td>\n",
       "      <td>False</td>\n",
       "      <td>False</td>\n",
       "      <td>False</td>\n",
       "      <td>True</td>\n",
       "      <td>False</td>\n",
       "      <td>False</td>\n",
       "    </tr>\n",
       "    <tr>\n",
       "      <th>4</th>\n",
       "      <td>False</td>\n",
       "      <td>False</td>\n",
       "      <td>False</td>\n",
       "      <td>False</td>\n",
       "      <td>False</td>\n",
       "      <td>False</td>\n",
       "      <td>False</td>\n",
       "      <td>False</td>\n",
       "      <td>False</td>\n",
       "      <td>False</td>\n",
       "      <td>False</td>\n",
       "      <td>True</td>\n",
       "      <td>True</td>\n",
       "      <td>False</td>\n",
       "    </tr>\n",
       "    <tr>\n",
       "      <th>...</th>\n",
       "      <td>...</td>\n",
       "      <td>...</td>\n",
       "      <td>...</td>\n",
       "      <td>...</td>\n",
       "      <td>...</td>\n",
       "      <td>...</td>\n",
       "      <td>...</td>\n",
       "      <td>...</td>\n",
       "      <td>...</td>\n",
       "      <td>...</td>\n",
       "      <td>...</td>\n",
       "      <td>...</td>\n",
       "      <td>...</td>\n",
       "      <td>...</td>\n",
       "    </tr>\n",
       "    <tr>\n",
       "      <th>1304</th>\n",
       "      <td>False</td>\n",
       "      <td>False</td>\n",
       "      <td>False</td>\n",
       "      <td>False</td>\n",
       "      <td>False</td>\n",
       "      <td>False</td>\n",
       "      <td>False</td>\n",
       "      <td>False</td>\n",
       "      <td>False</td>\n",
       "      <td>True</td>\n",
       "      <td>False</td>\n",
       "      <td>True</td>\n",
       "      <td>False</td>\n",
       "      <td>True</td>\n",
       "    </tr>\n",
       "    <tr>\n",
       "      <th>1305</th>\n",
       "      <td>False</td>\n",
       "      <td>False</td>\n",
       "      <td>False</td>\n",
       "      <td>False</td>\n",
       "      <td>True</td>\n",
       "      <td>False</td>\n",
       "      <td>False</td>\n",
       "      <td>False</td>\n",
       "      <td>False</td>\n",
       "      <td>True</td>\n",
       "      <td>False</td>\n",
       "      <td>True</td>\n",
       "      <td>True</td>\n",
       "      <td>True</td>\n",
       "    </tr>\n",
       "    <tr>\n",
       "      <th>1306</th>\n",
       "      <td>False</td>\n",
       "      <td>False</td>\n",
       "      <td>False</td>\n",
       "      <td>False</td>\n",
       "      <td>False</td>\n",
       "      <td>False</td>\n",
       "      <td>False</td>\n",
       "      <td>False</td>\n",
       "      <td>False</td>\n",
       "      <td>True</td>\n",
       "      <td>False</td>\n",
       "      <td>True</td>\n",
       "      <td>False</td>\n",
       "      <td>True</td>\n",
       "    </tr>\n",
       "    <tr>\n",
       "      <th>1307</th>\n",
       "      <td>False</td>\n",
       "      <td>False</td>\n",
       "      <td>False</td>\n",
       "      <td>False</td>\n",
       "      <td>False</td>\n",
       "      <td>False</td>\n",
       "      <td>False</td>\n",
       "      <td>False</td>\n",
       "      <td>False</td>\n",
       "      <td>True</td>\n",
       "      <td>False</td>\n",
       "      <td>True</td>\n",
       "      <td>True</td>\n",
       "      <td>True</td>\n",
       "    </tr>\n",
       "    <tr>\n",
       "      <th>1308</th>\n",
       "      <td>False</td>\n",
       "      <td>False</td>\n",
       "      <td>False</td>\n",
       "      <td>False</td>\n",
       "      <td>False</td>\n",
       "      <td>False</td>\n",
       "      <td>False</td>\n",
       "      <td>False</td>\n",
       "      <td>False</td>\n",
       "      <td>True</td>\n",
       "      <td>False</td>\n",
       "      <td>True</td>\n",
       "      <td>True</td>\n",
       "      <td>True</td>\n",
       "    </tr>\n",
       "  </tbody>\n",
       "</table>\n",
       "<p>1309 rows × 14 columns</p>\n",
       "</div>"
      ],
      "text/plain": [
       "      pclass  survived   name  gender    age  sibsp  parch  ticket   fare  \\\n",
       "0      False     False  False   False  False  False  False   False  False   \n",
       "1      False     False  False   False  False  False  False   False  False   \n",
       "2      False     False  False   False  False  False  False   False  False   \n",
       "3      False     False  False   False  False  False  False   False  False   \n",
       "4      False     False  False   False  False  False  False   False  False   \n",
       "...      ...       ...    ...     ...    ...    ...    ...     ...    ...   \n",
       "1304   False     False  False   False  False  False  False   False  False   \n",
       "1305   False     False  False   False   True  False  False   False  False   \n",
       "1306   False     False  False   False  False  False  False   False  False   \n",
       "1307   False     False  False   False  False  False  False   False  False   \n",
       "1308   False     False  False   False  False  False  False   False  False   \n",
       "\n",
       "      cabin  embarked   boat   body  home.dest  \n",
       "0     False     False  False   True      False  \n",
       "1     False     False  False   True      False  \n",
       "2     False     False   True   True      False  \n",
       "3     False     False   True  False      False  \n",
       "4     False     False   True   True      False  \n",
       "...     ...       ...    ...    ...        ...  \n",
       "1304   True     False   True  False       True  \n",
       "1305   True     False   True   True       True  \n",
       "1306   True     False   True  False       True  \n",
       "1307   True     False   True   True       True  \n",
       "1308   True     False   True   True       True  \n",
       "\n",
       "[1309 rows x 14 columns]"
      ]
     },
     "execution_count": 261,
     "metadata": {},
     "output_type": "execute_result"
    }
   ],
   "source": [
    "df.isnull()"
   ]
  },
  {
   "cell_type": "code",
   "execution_count": 262,
   "id": "30f26c60",
   "metadata": {
    "ExecuteTime": {
     "end_time": "2022-02-15T13:28:58.244150Z",
     "start_time": "2022-02-15T13:28:58.193392Z"
    }
   },
   "outputs": [
    {
     "data": {
      "text/plain": [
       "pclass          4\n",
       "survived        0\n",
       "name            0\n",
       "gender          0\n",
       "age           263\n",
       "sibsp           0\n",
       "parch           0\n",
       "ticket          0\n",
       "fare            2\n",
       "cabin        1014\n",
       "embarked        2\n",
       "boat          823\n",
       "body         1188\n",
       "home.dest     564\n",
       "dtype: int64"
      ]
     },
     "execution_count": 262,
     "metadata": {},
     "output_type": "execute_result"
    }
   ],
   "source": [
    "df.isnull().sum()"
   ]
  },
  {
   "cell_type": "markdown",
   "id": "99e275dc",
   "metadata": {},
   "source": [
    "## Visualize missing values of data set"
   ]
  },
  {
   "cell_type": "code",
   "execution_count": 264,
   "id": "3e3437be",
   "metadata": {
    "ExecuteTime": {
     "end_time": "2022-02-15T13:30:48.432670Z",
     "start_time": "2022-02-15T13:30:44.448985Z"
    }
   },
   "outputs": [
    {
     "data": {
      "text/plain": [
       "<AxesSubplot:>"
      ]
     },
     "execution_count": 264,
     "metadata": {},
     "output_type": "execute_result"
    },
    {
     "data": {
      "image/png": "[encoded data removed]",
      "text/plain": [
       "<Figure size 1152x432 with 2 Axes>"
      ]
     },
     "metadata": {
      "needs_background": "light"
     },
     "output_type": "display_data"
    }
   ],
   "source": [
    "plt.figure(figsize=(16,6))\n",
    "sns.heatmap(df.isnull(),cmap=\"winter\")"
   ]
  },
  {
   "cell_type": "markdown",
   "id": "eaf3f237",
   "metadata": {},
   "source": [
    "## Get unique values for each feature, this will help you to get to know if any unwanted characters are present in dataset"
   ]
  },
  {
   "cell_type": "code",
   "execution_count": 268,
   "id": "9be824e3",
   "metadata": {
    "ExecuteTime": {
     "end_time": "2022-02-15T13:33:38.010310Z",
     "start_time": "2022-02-15T13:33:37.944079Z"
    },
    "scrolled": false
   },
   "outputs": [
    {
     "name": "stdout",
     "output_type": "stream",
     "text": [
      "pclass [ 1. nan  2.  3.]\n",
      "survived [1 0]\n",
      "gender ['female' 'male']\n",
      "sibsp [0 1 2 3 4 5 8]\n",
      "parch [0 2 1 4 3 5 6 9]\n",
      "embarked ['S' 'C' nan 'Q']\n",
      "boat ['2' '11' nan '3' '10' 'D' '4' '9' '6' 'B' '8' 'A' '5' '7' 'C' '14' '5 9'\n",
      " '13' '1' '15' '5 7' '8 10' '12' '16' '13 15 B' 'C D' '15 16' '13 15']\n"
     ]
    }
   ],
   "source": [
    "for k in df.keys():\n",
    "    if df[k].unique().size <=50:\n",
    "        print(k,df[k].unique())"
   ]
  },
  {
   "cell_type": "markdown",
   "id": "0e02d5ab",
   "metadata": {},
   "source": [
    "## Decide if features needs to be dropped\n",
    "- Some important factors which helps to drop feature(s):\n",
    "     - If more than 10% values are empty in a given feature, drop them until it really contributes to EDA\n",
    "     - Some features like person name, ID, pin code, SSN etc. doesnt add much value because they are unique\n",
    "     - There could be 2 features which is similar in nature, choose one of them"
   ]
  },
  {
   "cell_type": "code",
   "execution_count": 269,
   "id": "6cea7d9a",
   "metadata": {
    "ExecuteTime": {
     "end_time": "2022-02-15T13:34:37.095815Z",
     "start_time": "2022-02-15T13:34:36.813083Z"
    }
   },
   "outputs": [
    {
     "data": {
      "text/html": [
       "<div>\n",
       "<style scoped>\n",
       "    .dataframe tbody tr th:only-of-type {\n",
       "        vertical-align: middle;\n",
       "    }\n",
       "\n",
       "    .dataframe tbody tr th {\n",
       "        vertical-align: top;\n",
       "    }\n",
       "\n",
       "    .dataframe thead th {\n",
       "        text-align: right;\n",
       "    }\n",
       "</style>\n",
       "<table border=\"1\" class=\"dataframe\">\n",
       "  <thead>\n",
       "    <tr style=\"text-align: right;\">\n",
       "      <th></th>\n",
       "      <th>pclass</th>\n",
       "      <th>survived</th>\n",
       "      <th>name</th>\n",
       "      <th>gender</th>\n",
       "      <th>age</th>\n",
       "      <th>sibsp</th>\n",
       "      <th>parch</th>\n",
       "      <th>ticket</th>\n",
       "      <th>fare</th>\n",
       "      <th>cabin</th>\n",
       "      <th>embarked</th>\n",
       "      <th>boat</th>\n",
       "      <th>body</th>\n",
       "      <th>home.dest</th>\n",
       "    </tr>\n",
       "  </thead>\n",
       "  <tbody>\n",
       "    <tr>\n",
       "      <th>0</th>\n",
       "      <td>1.0</td>\n",
       "      <td>1</td>\n",
       "      <td>Allen, Miss. Elisabeth Walton</td>\n",
       "      <td>female</td>\n",
       "      <td>29.0000</td>\n",
       "      <td>0</td>\n",
       "      <td>0</td>\n",
       "      <td>24160</td>\n",
       "      <td>211.3375</td>\n",
       "      <td>B5</td>\n",
       "      <td>S</td>\n",
       "      <td>2</td>\n",
       "      <td>NaN</td>\n",
       "      <td>St Louis, MO</td>\n",
       "    </tr>\n",
       "    <tr>\n",
       "      <th>1</th>\n",
       "      <td>1.0</td>\n",
       "      <td>1</td>\n",
       "      <td>Allison, Master. Hudson Trevor</td>\n",
       "      <td>male</td>\n",
       "      <td>0.9167</td>\n",
       "      <td>1</td>\n",
       "      <td>2</td>\n",
       "      <td>113781</td>\n",
       "      <td>151.5500</td>\n",
       "      <td>C22 C26</td>\n",
       "      <td>S</td>\n",
       "      <td>11</td>\n",
       "      <td>NaN</td>\n",
       "      <td>Montreal, PQ / Chesterville, ON</td>\n",
       "    </tr>\n",
       "  </tbody>\n",
       "</table>\n",
       "</div>"
      ],
      "text/plain": [
       "   pclass  survived                            name  gender      age  sibsp  \\\n",
       "0     1.0         1   Allen, Miss. Elisabeth Walton  female  29.0000      0   \n",
       "1     1.0         1  Allison, Master. Hudson Trevor    male   0.9167      1   \n",
       "\n",
       "   parch  ticket      fare    cabin embarked boat  body  \\\n",
       "0      0   24160  211.3375       B5        S    2   NaN   \n",
       "1      2  113781  151.5500  C22 C26        S   11   NaN   \n",
       "\n",
       "                         home.dest  \n",
       "0                     St Louis, MO  \n",
       "1  Montreal, PQ / Chesterville, ON  "
      ]
     },
     "execution_count": 269,
     "metadata": {},
     "output_type": "execute_result"
    }
   ],
   "source": [
    "df.head(2)"
   ]
  },
  {
   "cell_type": "code",
   "execution_count": 283,
   "id": "82eb0204",
   "metadata": {
    "ExecuteTime": {
     "end_time": "2022-02-15T13:41:32.422947Z",
     "start_time": "2022-02-15T13:41:32.369521Z"
    }
   },
   "outputs": [],
   "source": [
    "df.drop([\"name\",\"ticket\",\"cabin\",\"body\",\"boat\",\"home.dest\"],axis=1,inplace=True)"
   ]
  },
  {
   "cell_type": "code",
   "execution_count": 273,
   "id": "c466f6aa",
   "metadata": {
    "ExecuteTime": {
     "end_time": "2022-02-15T13:36:11.848448Z",
     "start_time": "2022-02-15T13:36:11.750292Z"
    }
   },
   "outputs": [
    {
     "data": {
      "text/html": [
       "<div>\n",
       "<style scoped>\n",
       "    .dataframe tbody tr th:only-of-type {\n",
       "        vertical-align: middle;\n",
       "    }\n",
       "\n",
       "    .dataframe tbody tr th {\n",
       "        vertical-align: top;\n",
       "    }\n",
       "\n",
       "    .dataframe thead th {\n",
       "        text-align: right;\n",
       "    }\n",
       "</style>\n",
       "<table border=\"1\" class=\"dataframe\">\n",
       "  <thead>\n",
       "    <tr style=\"text-align: right;\">\n",
       "      <th></th>\n",
       "      <th>pclass</th>\n",
       "      <th>survived</th>\n",
       "      <th>gender</th>\n",
       "      <th>age</th>\n",
       "      <th>sibsp</th>\n",
       "      <th>parch</th>\n",
       "      <th>fare</th>\n",
       "      <th>embarked</th>\n",
       "      <th>boat</th>\n",
       "    </tr>\n",
       "  </thead>\n",
       "  <tbody>\n",
       "    <tr>\n",
       "      <th>0</th>\n",
       "      <td>1.0</td>\n",
       "      <td>1</td>\n",
       "      <td>female</td>\n",
       "      <td>29.0000</td>\n",
       "      <td>0</td>\n",
       "      <td>0</td>\n",
       "      <td>211.3375</td>\n",
       "      <td>S</td>\n",
       "      <td>2</td>\n",
       "    </tr>\n",
       "    <tr>\n",
       "      <th>1</th>\n",
       "      <td>1.0</td>\n",
       "      <td>1</td>\n",
       "      <td>male</td>\n",
       "      <td>0.9167</td>\n",
       "      <td>1</td>\n",
       "      <td>2</td>\n",
       "      <td>151.5500</td>\n",
       "      <td>S</td>\n",
       "      <td>11</td>\n",
       "    </tr>\n",
       "  </tbody>\n",
       "</table>\n",
       "</div>"
      ],
      "text/plain": [
       "   pclass  survived  gender      age  sibsp  parch      fare embarked boat\n",
       "0     1.0         1  female  29.0000      0      0  211.3375        S    2\n",
       "1     1.0         1    male   0.9167      1      2  151.5500        S   11"
      ]
     },
     "execution_count": 273,
     "metadata": {},
     "output_type": "execute_result"
    }
   ],
   "source": [
    "df.head(2)"
   ]
  },
  {
   "cell_type": "markdown",
   "id": "6c9e950b",
   "metadata": {},
   "source": [
    "## Fill missing values\n",
    "- Some important factors which helps to fill empty data\n",
    "    - if feature has `categorical data` then replace empty value using `mode()`\n",
    "    - if feature has `discrete data` and range is very less (1-10), go with `mode()`,because they will be categorical data else go with `median()`\n",
    "    - if feature has `continous data` then go with `median()`"
   ]
  },
  {
   "cell_type": "code",
   "execution_count": 284,
   "id": "5e291f3b",
   "metadata": {
    "ExecuteTime": {
     "end_time": "2022-02-15T13:41:51.653931Z",
     "start_time": "2022-02-15T13:41:51.610850Z"
    }
   },
   "outputs": [
    {
     "data": {
      "text/plain": [
       "3.0"
      ]
     },
     "execution_count": 284,
     "metadata": {},
     "output_type": "execute_result"
    }
   ],
   "source": [
    "df.pclass.mode()[0]"
   ]
  },
  {
   "cell_type": "code",
   "execution_count": 285,
   "id": "76b5b1bb",
   "metadata": {
    "ExecuteTime": {
     "end_time": "2022-02-15T13:41:51.737269Z",
     "start_time": "2022-02-15T13:41:51.693769Z"
    }
   },
   "outputs": [],
   "source": [
    "df.pclass = df.pclass.fillna(df.pclass.mode()[0])"
   ]
  },
  {
   "cell_type": "code",
   "execution_count": 286,
   "id": "e0b31205",
   "metadata": {
    "ExecuteTime": {
     "end_time": "2022-02-15T13:41:51.980416Z",
     "start_time": "2022-02-15T13:41:51.938667Z"
    }
   },
   "outputs": [],
   "source": [
    "df.embarked = df.embarked.fillna(df.embarked.mode()[0])"
   ]
  },
  {
   "cell_type": "code",
   "execution_count": 287,
   "id": "e4348cff",
   "metadata": {
    "ExecuteTime": {
     "end_time": "2022-02-15T13:41:51.896111Z",
     "start_time": "2022-02-15T13:41:51.826726Z"
    }
   },
   "outputs": [
    {
     "data": {
      "text/plain": [
       "29.8811345124283"
      ]
     },
     "execution_count": 287,
     "metadata": {},
     "output_type": "execute_result"
    }
   ],
   "source": [
    "df.age.mean()"
   ]
  },
  {
   "cell_type": "code",
   "execution_count": 288,
   "id": "0b097794",
   "metadata": {
    "ExecuteTime": {
     "end_time": "2022-02-15T13:41:51.980416Z",
     "start_time": "2022-02-15T13:41:51.938667Z"
    }
   },
   "outputs": [],
   "source": [
    "df.age = df.age.fillna(df.age.mean())"
   ]
  },
  {
   "cell_type": "markdown",
   "id": "a31d2d28",
   "metadata": {},
   "source": [
    "## Visualize missing values again to make sure that all features are having `0` missing values"
   ]
  },
  {
   "cell_type": "code",
   "execution_count": 289,
   "id": "f563de31",
   "metadata": {
    "ExecuteTime": {
     "end_time": "2022-02-15T13:41:57.839251Z",
     "start_time": "2022-02-15T13:41:55.299334Z"
    }
   },
   "outputs": [
    {
     "data": {
      "image/png": "[encoded data removed]",
      "text/plain": [
       "<Figure size 1152x288 with 2 Axes>"
      ]
     },
     "metadata": {
      "needs_background": "light"
     },
     "output_type": "display_data"
    }
   ],
   "source": [
    "plt.figure(figsize=(16,4))\n",
    "sns.heatmap(df.isnull(),cmap=\"winter\")\n",
    "plt.show()"
   ]
  },
  {
   "cell_type": "markdown",
   "id": "18cd1fc6",
   "metadata": {},
   "source": [
    "## Find out highly correlated features"
   ]
  },
  {
   "cell_type": "code",
   "execution_count": 291,
   "id": "773ec677",
   "metadata": {
    "ExecuteTime": {
     "end_time": "2022-02-15T13:42:53.274055Z",
     "start_time": "2022-02-15T13:42:53.184766Z"
    }
   },
   "outputs": [
    {
     "data": {
      "text/html": [
       "<div>\n",
       "<style scoped>\n",
       "    .dataframe tbody tr th:only-of-type {\n",
       "        vertical-align: middle;\n",
       "    }\n",
       "\n",
       "    .dataframe tbody tr th {\n",
       "        vertical-align: top;\n",
       "    }\n",
       "\n",
       "    .dataframe thead th {\n",
       "        text-align: right;\n",
       "    }\n",
       "</style>\n",
       "<table border=\"1\" class=\"dataframe\">\n",
       "  <thead>\n",
       "    <tr style=\"text-align: right;\">\n",
       "      <th></th>\n",
       "      <th>pclass</th>\n",
       "      <th>survived</th>\n",
       "      <th>age</th>\n",
       "      <th>sibsp</th>\n",
       "      <th>parch</th>\n",
       "      <th>fare</th>\n",
       "    </tr>\n",
       "  </thead>\n",
       "  <tbody>\n",
       "    <tr>\n",
       "      <th>pclass</th>\n",
       "      <td>1.000000</td>\n",
       "      <td>-0.303977</td>\n",
       "      <td>-0.369388</td>\n",
       "      <td>0.062755</td>\n",
       "      <td>0.021456</td>\n",
       "      <td>-0.555550</td>\n",
       "    </tr>\n",
       "    <tr>\n",
       "      <th>survived</th>\n",
       "      <td>-0.303977</td>\n",
       "      <td>1.000000</td>\n",
       "      <td>-0.050199</td>\n",
       "      <td>-0.027825</td>\n",
       "      <td>0.082660</td>\n",
       "      <td>0.244469</td>\n",
       "    </tr>\n",
       "    <tr>\n",
       "      <th>age</th>\n",
       "      <td>-0.369388</td>\n",
       "      <td>-0.050199</td>\n",
       "      <td>1.000000</td>\n",
       "      <td>-0.190747</td>\n",
       "      <td>-0.130872</td>\n",
       "      <td>0.171887</td>\n",
       "    </tr>\n",
       "    <tr>\n",
       "      <th>sibsp</th>\n",
       "      <td>0.062755</td>\n",
       "      <td>-0.027825</td>\n",
       "      <td>-0.190747</td>\n",
       "      <td>1.000000</td>\n",
       "      <td>0.373587</td>\n",
       "      <td>0.160233</td>\n",
       "    </tr>\n",
       "    <tr>\n",
       "      <th>parch</th>\n",
       "      <td>0.021456</td>\n",
       "      <td>0.082660</td>\n",
       "      <td>-0.130872</td>\n",
       "      <td>0.373587</td>\n",
       "      <td>1.000000</td>\n",
       "      <td>0.221537</td>\n",
       "    </tr>\n",
       "    <tr>\n",
       "      <th>fare</th>\n",
       "      <td>-0.555550</td>\n",
       "      <td>0.244469</td>\n",
       "      <td>0.171887</td>\n",
       "      <td>0.160233</td>\n",
       "      <td>0.221537</td>\n",
       "      <td>1.000000</td>\n",
       "    </tr>\n",
       "  </tbody>\n",
       "</table>\n",
       "</div>"
      ],
      "text/plain": [
       "            pclass  survived       age     sibsp     parch      fare\n",
       "pclass    1.000000 -0.303977 -0.369388  0.062755  0.021456 -0.555550\n",
       "survived -0.303977  1.000000 -0.050199 -0.027825  0.082660  0.244469\n",
       "age      -0.369388 -0.050199  1.000000 -0.190747 -0.130872  0.171887\n",
       "sibsp     0.062755 -0.027825 -0.190747  1.000000  0.373587  0.160233\n",
       "parch     0.021456  0.082660 -0.130872  0.373587  1.000000  0.221537\n",
       "fare     -0.555550  0.244469  0.171887  0.160233  0.221537  1.000000"
      ]
     },
     "execution_count": 291,
     "metadata": {},
     "output_type": "execute_result"
    }
   ],
   "source": [
    "corr = df.corr()\n",
    "corr"
   ]
  },
  {
   "cell_type": "markdown",
   "id": "b7346878",
   "metadata": {},
   "source": [
    "## Find out correlation and perform visualization using heatmap"
   ]
  },
  {
   "cell_type": "code",
   "execution_count": 292,
   "id": "b3c44a81",
   "metadata": {
    "ExecuteTime": {
     "end_time": "2022-02-15T13:43:08.931338Z",
     "start_time": "2022-02-15T13:43:07.275232Z"
    }
   },
   "outputs": [
    {
     "data": {
      "text/plain": [
       "<AxesSubplot:>"
      ]
     },
     "execution_count": 292,
     "metadata": {},
     "output_type": "execute_result"
    },
    {
     "data": {
      "image/png": "[encoded data removed]",
      "text/plain": [
       "<Figure size 432x288 with 2 Axes>"
      ]
     },
     "metadata": {
      "needs_background": "light"
     },
     "output_type": "display_data"
    }
   ],
   "source": [
    "sns.heatmap(corr,annot=True)"
   ]
  },
  {
   "cell_type": "markdown",
   "id": "e7b1f5a0",
   "metadata": {},
   "source": [
    "## Find out features which needs type casting"
   ]
  },
  {
   "cell_type": "code",
   "execution_count": 293,
   "id": "44aad4f3",
   "metadata": {
    "ExecuteTime": {
     "end_time": "2022-02-15T13:43:59.895850Z",
     "start_time": "2022-02-15T13:43:59.812300Z"
    }
   },
   "outputs": [
    {
     "data": {
      "text/plain": [
       "pclass      float64\n",
       "survived      int64\n",
       "gender       object\n",
       "age         float64\n",
       "sibsp         int64\n",
       "parch         int64\n",
       "fare        float64\n",
       "embarked     object\n",
       "dtype: object"
      ]
     },
     "execution_count": 293,
     "metadata": {},
     "output_type": "execute_result"
    }
   ],
   "source": [
    "df.dtypes"
   ]
  },
  {
   "cell_type": "code",
   "execution_count": 294,
   "id": "cb4a94ac",
   "metadata": {
    "ExecuteTime": {
     "end_time": "2022-02-15T13:44:14.178670Z",
     "start_time": "2022-02-15T13:44:14.010977Z"
    }
   },
   "outputs": [
    {
     "name": "stdout",
     "output_type": "stream",
     "text": [
      "<class 'pandas.core.frame.DataFrame'>\n",
      "RangeIndex: 1309 entries, 0 to 1308\n",
      "Data columns (total 8 columns):\n",
      " #   Column    Non-Null Count  Dtype  \n",
      "---  ------    --------------  -----  \n",
      " 0   pclass    1309 non-null   float64\n",
      " 1   survived  1309 non-null   int64  \n",
      " 2   gender    1309 non-null   object \n",
      " 3   age       1309 non-null   float64\n",
      " 4   sibsp     1309 non-null   int64  \n",
      " 5   parch     1309 non-null   int64  \n",
      " 6   fare      1307 non-null   float64\n",
      " 7   embarked  1309 non-null   object \n",
      "dtypes: float64(3), int64(3), object(2)\n",
      "memory usage: 81.9+ KB\n"
     ]
    }
   ],
   "source": [
    "df.info()"
   ]
  },
  {
   "cell_type": "code",
   "execution_count": 295,
   "id": "4a47e817",
   "metadata": {
    "ExecuteTime": {
     "end_time": "2022-02-15T13:44:38.875650Z",
     "start_time": "2022-02-15T13:44:38.825310Z"
    }
   },
   "outputs": [],
   "source": [
    "df.pclass = df.pclass.astype(\"int8\")"
   ]
  },
  {
   "cell_type": "code",
   "execution_count": 296,
   "id": "278822b7",
   "metadata": {
    "ExecuteTime": {
     "end_time": "2022-02-15T13:44:53.535576Z",
     "start_time": "2022-02-15T13:44:53.473141Z"
    }
   },
   "outputs": [],
   "source": [
    "df.survived = df.survived.astype(\"int8\")"
   ]
  },
  {
   "cell_type": "code",
   "execution_count": 297,
   "id": "c02f874e",
   "metadata": {
    "ExecuteTime": {
     "end_time": "2022-02-15T13:45:16.985867Z",
     "start_time": "2022-02-15T13:45:16.936061Z"
    }
   },
   "outputs": [],
   "source": [
    "df.age = df.age.astype(\"float16\")"
   ]
  },
  {
   "cell_type": "code",
   "execution_count": 299,
   "id": "9d849fb8",
   "metadata": {
    "ExecuteTime": {
     "end_time": "2022-02-15T13:46:00.956447Z",
     "start_time": "2022-02-15T13:46:00.919227Z"
    }
   },
   "outputs": [],
   "source": [
    "df.sibsp = df.sibsp.astype(\"int8\")"
   ]
  },
  {
   "cell_type": "code",
   "execution_count": 300,
   "id": "519d894a",
   "metadata": {
    "ExecuteTime": {
     "end_time": "2022-02-15T13:46:11.442773Z",
     "start_time": "2022-02-15T13:46:11.416431Z"
    }
   },
   "outputs": [],
   "source": [
    "df.parch = df.parch.astype(\"int8\")"
   ]
  },
  {
   "cell_type": "code",
   "execution_count": 303,
   "id": "fb9a80f2",
   "metadata": {
    "ExecuteTime": {
     "end_time": "2022-02-15T13:46:59.702872Z",
     "start_time": "2022-02-15T13:46:59.673092Z"
    }
   },
   "outputs": [
    {
     "data": {
      "text/plain": [
       "0.0"
      ]
     },
     "execution_count": 303,
     "metadata": {},
     "output_type": "execute_result"
    }
   ],
   "source": [
    "df.fare.min()"
   ]
  },
  {
   "cell_type": "code",
   "execution_count": 302,
   "id": "f294c471",
   "metadata": {
    "ExecuteTime": {
     "end_time": "2022-02-15T13:46:40.581459Z",
     "start_time": "2022-02-15T13:46:40.549327Z"
    }
   },
   "outputs": [
    {
     "data": {
      "text/plain": [
       "512.3292"
      ]
     },
     "execution_count": 302,
     "metadata": {},
     "output_type": "execute_result"
    }
   ],
   "source": [
    "df.fare.max()"
   ]
  },
  {
   "cell_type": "code",
   "execution_count": 304,
   "id": "eafc7126",
   "metadata": {
    "ExecuteTime": {
     "end_time": "2022-02-15T13:47:07.890392Z",
     "start_time": "2022-02-15T13:47:07.866346Z"
    }
   },
   "outputs": [],
   "source": [
    "df.fare = df.fare.astype(\"float16\")"
   ]
  },
  {
   "cell_type": "code",
   "execution_count": 305,
   "id": "1f9d3140",
   "metadata": {
    "ExecuteTime": {
     "end_time": "2022-02-15T13:47:21.891198Z",
     "start_time": "2022-02-15T13:47:21.720564Z"
    }
   },
   "outputs": [
    {
     "name": "stdout",
     "output_type": "stream",
     "text": [
      "<class 'pandas.core.frame.DataFrame'>\n",
      "RangeIndex: 1309 entries, 0 to 1308\n",
      "Data columns (total 8 columns):\n",
      " #   Column    Non-Null Count  Dtype  \n",
      "---  ------    --------------  -----  \n",
      " 0   pclass    1309 non-null   int8   \n",
      " 1   survived  1309 non-null   int8   \n",
      " 2   gender    1309 non-null   object \n",
      " 3   age       1309 non-null   float16\n",
      " 4   sibsp     1309 non-null   int8   \n",
      " 5   parch     1309 non-null   int8   \n",
      " 6   fare      1307 non-null   float16\n",
      " 7   embarked  1309 non-null   object \n",
      "dtypes: float16(2), int8(4), object(2)\n",
      "memory usage: 30.8+ KB\n"
     ]
    }
   ],
   "source": [
    "df.info()"
   ]
  },
  {
   "cell_type": "markdown",
   "id": "9be9aaf2",
   "metadata": {},
   "source": [
    "# Infer insights of Data after All the above process are completed using Visualization"
   ]
  },
  {
   "cell_type": "code",
   "execution_count": 306,
   "id": "4866b9eb",
   "metadata": {
    "ExecuteTime": {
     "end_time": "2022-02-15T13:48:47.278864Z",
     "start_time": "2022-02-15T13:48:47.199785Z"
    }
   },
   "outputs": [
    {
     "data": {
      "text/html": [
       "<div>\n",
       "<style scoped>\n",
       "    .dataframe tbody tr th:only-of-type {\n",
       "        vertical-align: middle;\n",
       "    }\n",
       "\n",
       "    .dataframe tbody tr th {\n",
       "        vertical-align: top;\n",
       "    }\n",
       "\n",
       "    .dataframe thead th {\n",
       "        text-align: right;\n",
       "    }\n",
       "</style>\n",
       "<table border=\"1\" class=\"dataframe\">\n",
       "  <thead>\n",
       "    <tr style=\"text-align: right;\">\n",
       "      <th></th>\n",
       "      <th>pclass</th>\n",
       "      <th>survived</th>\n",
       "      <th>gender</th>\n",
       "      <th>age</th>\n",
       "      <th>sibsp</th>\n",
       "      <th>parch</th>\n",
       "      <th>fare</th>\n",
       "      <th>embarked</th>\n",
       "    </tr>\n",
       "  </thead>\n",
       "  <tbody>\n",
       "    <tr>\n",
       "      <th>0</th>\n",
       "      <td>1</td>\n",
       "      <td>1</td>\n",
       "      <td>female</td>\n",
       "      <td>29.000000</td>\n",
       "      <td>0</td>\n",
       "      <td>0</td>\n",
       "      <td>211.375</td>\n",
       "      <td>S</td>\n",
       "    </tr>\n",
       "    <tr>\n",
       "      <th>1</th>\n",
       "      <td>1</td>\n",
       "      <td>1</td>\n",
       "      <td>male</td>\n",
       "      <td>0.916504</td>\n",
       "      <td>1</td>\n",
       "      <td>2</td>\n",
       "      <td>151.500</td>\n",
       "      <td>S</td>\n",
       "    </tr>\n",
       "    <tr>\n",
       "      <th>2</th>\n",
       "      <td>1</td>\n",
       "      <td>0</td>\n",
       "      <td>female</td>\n",
       "      <td>2.000000</td>\n",
       "      <td>1</td>\n",
       "      <td>2</td>\n",
       "      <td>151.500</td>\n",
       "      <td>S</td>\n",
       "    </tr>\n",
       "  </tbody>\n",
       "</table>\n",
       "</div>"
      ],
      "text/plain": [
       "   pclass  survived  gender        age  sibsp  parch     fare embarked\n",
       "0       1         1  female  29.000000      0      0  211.375        S\n",
       "1       1         1    male   0.916504      1      2  151.500        S\n",
       "2       1         0  female   2.000000      1      2  151.500        S"
      ]
     },
     "execution_count": 306,
     "metadata": {},
     "output_type": "execute_result"
    }
   ],
   "source": [
    "df.head(3)"
   ]
  },
  {
   "cell_type": "markdown",
   "id": "f6a93faf",
   "metadata": {},
   "source": [
    "## Count of categorical data"
   ]
  },
  {
   "cell_type": "code",
   "execution_count": 307,
   "id": "9f5e55d1",
   "metadata": {
    "ExecuteTime": {
     "end_time": "2022-02-15T13:48:58.200387Z",
     "start_time": "2022-02-15T13:48:57.670999Z"
    }
   },
   "outputs": [
    {
     "name": "stderr",
     "output_type": "stream",
     "text": [
      "/Users/pksoni/opt/anaconda3/lib/python3.9/site-packages/seaborn/_decorators.py:36: FutureWarning: Pass the following variable as a keyword arg: x. From version 0.12, the only valid positional argument will be `data`, and passing other arguments without an explicit keyword will result in an error or misinterpretation.\n",
      "  warnings.warn(\n"
     ]
    },
    {
     "data": {
      "text/plain": [
       "<AxesSubplot:xlabel='pclass', ylabel='count'>"
      ]
     },
     "execution_count": 307,
     "metadata": {},
     "output_type": "execute_result"
    },
    {
     "data": {
      "image/png": "[encoded data removed]",
      "text/plain": [
       "<Figure size 432x288 with 1 Axes>"
      ]
     },
     "metadata": {
      "needs_background": "light"
     },
     "output_type": "display_data"
    }
   ],
   "source": [
    "sns.countplot(df.pclass)"
   ]
  },
  {
   "cell_type": "code",
   "execution_count": 308,
   "id": "54c1aa64",
   "metadata": {
    "ExecuteTime": {
     "end_time": "2022-02-15T13:49:21.836670Z",
     "start_time": "2022-02-15T13:49:21.307430Z"
    }
   },
   "outputs": [
    {
     "name": "stderr",
     "output_type": "stream",
     "text": [
      "/Users/pksoni/opt/anaconda3/lib/python3.9/site-packages/seaborn/_decorators.py:36: FutureWarning: Pass the following variable as a keyword arg: x. From version 0.12, the only valid positional argument will be `data`, and passing other arguments without an explicit keyword will result in an error or misinterpretation.\n",
      "  warnings.warn(\n"
     ]
    },
    {
     "data": {
      "text/plain": [
       "<AxesSubplot:xlabel='pclass', ylabel='count'>"
      ]
     },
     "execution_count": 308,
     "metadata": {},
     "output_type": "execute_result"
    },
    {
     "data": {
      "image/png": "[encoded data removed]",
      "text/plain": [
       "<Figure size 432x288 with 1 Axes>"
      ]
     },
     "metadata": {
      "needs_background": "light"
     },
     "output_type": "display_data"
    }
   ],
   "source": [
    "sns.countplot(df.pclass,hue=df.survived)"
   ]
  },
  {
   "cell_type": "code",
   "execution_count": 309,
   "id": "fee4f67a",
   "metadata": {
    "ExecuteTime": {
     "end_time": "2022-02-15T13:50:13.259738Z",
     "start_time": "2022-02-15T13:50:09.567440Z"
    }
   },
   "outputs": [
    {
     "name": "stderr",
     "output_type": "stream",
     "text": [
      "/Users/pksoni/opt/anaconda3/lib/python3.9/site-packages/seaborn/_decorators.py:36: FutureWarning: Pass the following variable as a keyword arg: x. From version 0.12, the only valid positional argument will be `data`, and passing other arguments without an explicit keyword will result in an error or misinterpretation.\n",
      "  warnings.warn(\n"
     ]
    },
    {
     "data": {
      "text/plain": [
       "<AxesSubplot:xlabel='pclass', ylabel='count'>"
      ]
     },
     "execution_count": 309,
     "metadata": {},
     "output_type": "execute_result"
    },
    {
     "data": {
      "image/png": "[encoded data removed]",
      "text/plain": [
       "<Figure size 432x288 with 1 Axes>"
      ]
     },
     "metadata": {
      "needs_background": "light"
     },
     "output_type": "display_data"
    }
   ],
   "source": [
    "sns.countplot(df.pclass,hue=df.embarked)"
   ]
  },
  {
   "cell_type": "markdown",
   "id": "ab16cc2e",
   "metadata": {},
   "source": [
    "## Histogram for discrete data to understand central tendency of data"
   ]
  },
  {
   "cell_type": "code",
   "execution_count": 310,
   "id": "44bc21ae",
   "metadata": {
    "ExecuteTime": {
     "end_time": "2022-02-15T13:51:13.543559Z",
     "start_time": "2022-02-15T13:51:08.865437Z"
    }
   },
   "outputs": [
    {
     "data": {
      "text/plain": [
       "<AxesSubplot:xlabel='age', ylabel='Count'>"
      ]
     },
     "execution_count": 310,
     "metadata": {},
     "output_type": "execute_result"
    },
    {
     "data": {
      "image/png": "[encoded data removed]",
      "text/plain": [
       "<Figure size 432x288 with 1 Axes>"
      ]
     },
     "metadata": {
      "needs_background": "light"
     },
     "output_type": "display_data"
    }
   ],
   "source": [
    "sns.histplot(df.age)"
   ]
  },
  {
   "cell_type": "markdown",
   "id": "a107c7be",
   "metadata": {},
   "source": [
    "## KDE plot to see how data is spread"
   ]
  },
  {
   "cell_type": "code",
   "execution_count": 311,
   "id": "8cca8125",
   "metadata": {
    "ExecuteTime": {
     "end_time": "2022-02-15T13:51:57.113624Z",
     "start_time": "2022-02-15T13:51:53.487719Z"
    }
   },
   "outputs": [
    {
     "data": {
      "text/plain": [
       "<AxesSubplot:xlabel='age', ylabel='Density'>"
      ]
     },
     "execution_count": 311,
     "metadata": {},
     "output_type": "execute_result"
    },
    {
     "data": {
      "image/png": "[encoded data removed]",
      "text/plain": [
       "<Figure size 432x288 with 1 Axes>"
      ]
     },
     "metadata": {
      "needs_background": "light"
     },
     "output_type": "display_data"
    }
   ],
   "source": [
    "sns.kdeplot(df.age)"
   ]
  },
  {
   "cell_type": "code",
   "execution_count": 312,
   "id": "97b5076c",
   "metadata": {
    "ExecuteTime": {
     "end_time": "2022-02-15T13:52:27.375976Z",
     "start_time": "2022-02-15T13:52:23.615190Z"
    }
   },
   "outputs": [
    {
     "data": {
      "text/plain": [
       "<AxesSubplot:xlabel='age', ylabel='Density'>"
      ]
     },
     "execution_count": 312,
     "metadata": {},
     "output_type": "execute_result"
    },
    {
     "data": {
      "image/png": "[encoded data removed]",
      "text/plain": [
       "<Figure size 432x288 with 1 Axes>"
      ]
     },
     "metadata": {
      "needs_background": "light"
     },
     "output_type": "display_data"
    }
   ],
   "source": [
    "sns.kdeplot(df.age,hue=df.survived)"
   ]
  },
  {
   "cell_type": "code",
   "execution_count": 313,
   "id": "77f1f97c",
   "metadata": {
    "ExecuteTime": {
     "end_time": "2022-02-15T13:52:57.552526Z",
     "start_time": "2022-02-15T13:52:53.479623Z"
    }
   },
   "outputs": [
    {
     "data": {
      "text/plain": [
       "<AxesSubplot:xlabel='age', ylabel='Density'>"
      ]
     },
     "execution_count": 313,
     "metadata": {},
     "output_type": "execute_result"
    },
    {
     "data": {
      "image/png": "[encoded data removed]",
      "text/plain": [
       "<Figure size 432x288 with 1 Axes>"
      ]
     },
     "metadata": {
      "needs_background": "light"
     },
     "output_type": "display_data"
    }
   ],
   "source": [
    "sns.kdeplot(df.age,hue=df.embarked)"
   ]
  },
  {
   "cell_type": "markdown",
   "id": "a59109da",
   "metadata": {},
   "source": [
    "## Trend of discrete or continious feature (if data available)"
   ]
  },
  {
   "cell_type": "code",
   "execution_count": 314,
   "id": "6a40603b",
   "metadata": {
    "ExecuteTime": {
     "end_time": "2022-02-15T14:02:27.284129Z",
     "start_time": "2022-02-15T14:02:27.281357Z"
    }
   },
   "outputs": [],
   "source": [
    "# NA"
   ]
  }
 ],
 "metadata": {
  "kernelspec": {
   "display_name": "Python 3 (ipykernel)",
   "language": "python",
   "name": "python3"
  },
  "language_info": {
   "codemirror_mode": {
    "name": "ipython",
    "version": 3
   },
   "file_extension": ".py",
   "mimetype": "text/x-python",
   "name": "python",
   "nbconvert_exporter": "python",
   "pygments_lexer": "ipython3",
   "version": "3.9.7"
  },
  "toc": {
   "base_numbering": 1,
   "nav_menu": {},
   "number_sections": true,
   "sideBar": true,
   "skip_h1_title": false,
   "title_cell": "Table of Contents",
   "title_sidebar": "Contents",
   "toc_cell": false,
   "toc_position": {
    "height": "calc(100% - 180px)",
    "left": "10px",
    "top": "150px",
    "width": "356.6px"
   },
   "toc_section_display": true,
   "toc_window_display": true
  },
  "varInspector": {
   "cols": {
    "lenName": 16,
    "lenType": 16,
    "lenVar": 40
   },
   "kernels_config": {
    "python": {
     "delete_cmd_postfix": "",
     "delete_cmd_prefix": "del ",
     "library": "var_list.py",
     "varRefreshCmd": "print(var_dic_list())"
    },
    "r": {
     "delete_cmd_postfix": ") ",
     "delete_cmd_prefix": "rm(",
     "library": "var_list.r",
     "varRefreshCmd": "cat(var_dic_list()) "
    }
   },
   "types_to_exclude": [
    "module",
    "function",
    "builtin_function_or_method",
    "instance",
    "_Feature"
   ],
   "window_display": false
  }
 },
 "nbformat": 4,
 "nbformat_minor": 5
}
